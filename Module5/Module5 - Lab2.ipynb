{
 "cells": [
  {
   "cell_type": "markdown",
   "metadata": {},
   "source": [
    "# DAT210x - Programming with Python for DS"
   ]
  },
  {
   "cell_type": "markdown",
   "metadata": {},
   "source": [
    "## Module5- Lab2"
   ]
  },
  {
   "cell_type": "markdown",
   "metadata": {
    "collapsed": true
   },
   "source": [
    "Start by importing whatever you need to import in order to make this lab work:"
   ]
  },
  {
   "cell_type": "code",
   "execution_count": 1,
   "metadata": {},
   "outputs": [],
   "source": [
    "# .. your code here ..\n",
    "import numpy as np\n",
    "import pandas as pd\n",
    "import matplotlib.pyplot as plt\n",
    "from sklearn.cluster import KMeans"
   ]
  },
  {
   "cell_type": "markdown",
   "metadata": {
    "collapsed": true
   },
   "source": [
    "### CDRs"
   ]
  },
  {
   "cell_type": "markdown",
   "metadata": {
    "collapsed": true
   },
   "source": [
    "A [call detail record](https://en.wikipedia.org/wiki/Call_detail_record) (CDR) is a data record produced by a telephone exchange or other telecommunications equipment that documents the details of a telephone call or other telecommunications transaction (e.g., text message) that passes through that facility or device.\n",
    "\n",
    "The record contains various attributes of the call, such as time, duration, completion status, source number, and destination number. It is the automated equivalent of the paper toll tickets that were written and timed by operators for long-distance calls in a manual telephone exchange.\n",
    "\n",
    "The dataset we've curated for you contains call records for 10 people, tracked over the course of 3 years. Your job in this assignment is to find out where each of these people likely live and where they work at!\n",
    "\n",
    "Start by loading up the dataset and taking a peek at its head. You can convert date-strings to real date-time objects using `pd.to_datetime`, and the times using `pd.to_timedelta`:"
   ]
  },
  {
   "cell_type": "code",
   "execution_count": 3,
   "metadata": {},
   "outputs": [
    {
     "data": {
      "text/html": [
       "<div>\n",
       "<style scoped>\n",
       "    .dataframe tbody tr th:only-of-type {\n",
       "        vertical-align: middle;\n",
       "    }\n",
       "\n",
       "    .dataframe tbody tr th {\n",
       "        vertical-align: top;\n",
       "    }\n",
       "\n",
       "    .dataframe thead th {\n",
       "        text-align: right;\n",
       "    }\n",
       "</style>\n",
       "<table border=\"1\" class=\"dataframe\">\n",
       "  <thead>\n",
       "    <tr style=\"text-align: right;\">\n",
       "      <th></th>\n",
       "      <th>In</th>\n",
       "      <th>Out</th>\n",
       "      <th>Direction</th>\n",
       "      <th>CallDate</th>\n",
       "      <th>CallTime</th>\n",
       "      <th>DOW</th>\n",
       "      <th>Duration</th>\n",
       "      <th>TowerID</th>\n",
       "      <th>TowerLat</th>\n",
       "      <th>TowerLon</th>\n",
       "    </tr>\n",
       "  </thead>\n",
       "  <tbody>\n",
       "    <tr>\n",
       "      <th>0</th>\n",
       "      <td>4638472273</td>\n",
       "      <td>2666307251</td>\n",
       "      <td>Incoming</td>\n",
       "      <td>2010-12-25</td>\n",
       "      <td>07:16:24.736813</td>\n",
       "      <td>Sat</td>\n",
       "      <td>0:02:41.741499</td>\n",
       "      <td>0db53dd3-eb9c-4344-abc5-c2d74ebc3eec</td>\n",
       "      <td>32.731611</td>\n",
       "      <td>-96.709417</td>\n",
       "    </tr>\n",
       "    <tr>\n",
       "      <th>1</th>\n",
       "      <td>4638472273</td>\n",
       "      <td>1755442610</td>\n",
       "      <td>Incoming</td>\n",
       "      <td>2010-12-25</td>\n",
       "      <td>21:18:30.053710</td>\n",
       "      <td>Sat</td>\n",
       "      <td>0:02:47.108750</td>\n",
       "      <td>aeaf8b43-8034-44fe-833d-31854a75acbf</td>\n",
       "      <td>32.731722</td>\n",
       "      <td>-96.709500</td>\n",
       "    </tr>\n",
       "    <tr>\n",
       "      <th>2</th>\n",
       "      <td>4638472273</td>\n",
       "      <td>5481755331</td>\n",
       "      <td>Incoming</td>\n",
       "      <td>2010-12-25</td>\n",
       "      <td>14:52:42.878016</td>\n",
       "      <td>Sat</td>\n",
       "      <td>0:04:35.356341</td>\n",
       "      <td>fadaa83f-6001-45fd-aa4a-17d6c6b7ec00</td>\n",
       "      <td>32.899944</td>\n",
       "      <td>-96.910389</td>\n",
       "    </tr>\n",
       "    <tr>\n",
       "      <th>3</th>\n",
       "      <td>4638472273</td>\n",
       "      <td>1755442610</td>\n",
       "      <td>Incoming</td>\n",
       "      <td>2010-12-25</td>\n",
       "      <td>16:02:09.001913</td>\n",
       "      <td>Sat</td>\n",
       "      <td>0:02:23.498499</td>\n",
       "      <td>fadaa83f-6001-45fd-aa4a-17d6c6b7ec00</td>\n",
       "      <td>32.899944</td>\n",
       "      <td>-96.910389</td>\n",
       "    </tr>\n",
       "    <tr>\n",
       "      <th>4</th>\n",
       "      <td>4638472273</td>\n",
       "      <td>2145623768</td>\n",
       "      <td>Incoming</td>\n",
       "      <td>2010-12-25</td>\n",
       "      <td>15:28:35.028554</td>\n",
       "      <td>Sat</td>\n",
       "      <td>0:03:54.692497</td>\n",
       "      <td>95d7920d-c3cd-4d20-a568-9a55800dc807</td>\n",
       "      <td>32.899944</td>\n",
       "      <td>-96.910389</td>\n",
       "    </tr>\n",
       "  </tbody>\n",
       "</table>\n",
       "</div>"
      ],
      "text/plain": [
       "           In         Out Direction    CallDate         CallTime  DOW  \\\n",
       "0  4638472273  2666307251  Incoming  2010-12-25  07:16:24.736813  Sat   \n",
       "1  4638472273  1755442610  Incoming  2010-12-25  21:18:30.053710  Sat   \n",
       "2  4638472273  5481755331  Incoming  2010-12-25  14:52:42.878016  Sat   \n",
       "3  4638472273  1755442610  Incoming  2010-12-25  16:02:09.001913  Sat   \n",
       "4  4638472273  2145623768  Incoming  2010-12-25  15:28:35.028554  Sat   \n",
       "\n",
       "         Duration                               TowerID   TowerLat   TowerLon  \n",
       "0  0:02:41.741499  0db53dd3-eb9c-4344-abc5-c2d74ebc3eec  32.731611 -96.709417  \n",
       "1  0:02:47.108750  aeaf8b43-8034-44fe-833d-31854a75acbf  32.731722 -96.709500  \n",
       "2  0:04:35.356341  fadaa83f-6001-45fd-aa4a-17d6c6b7ec00  32.899944 -96.910389  \n",
       "3  0:02:23.498499  fadaa83f-6001-45fd-aa4a-17d6c6b7ec00  32.899944 -96.910389  \n",
       "4  0:03:54.692497  95d7920d-c3cd-4d20-a568-9a55800dc807  32.899944 -96.910389  "
      ]
     },
     "execution_count": 3,
     "metadata": {},
     "output_type": "execute_result"
    }
   ],
   "source": [
    "# .. your code here ..\n",
    "df=pd.read_csv('Datasets/CDR.csv')\n",
    "df.head(5)"
   ]
  },
  {
   "cell_type": "code",
   "execution_count": 4,
   "metadata": {},
   "outputs": [
    {
     "data": {
      "text/plain": [
       "In                     int64\n",
       "Out                    int64\n",
       "Direction             object\n",
       "CallDate      datetime64[ns]\n",
       "CallTime     timedelta64[ns]\n",
       "DOW                   object\n",
       "Duration              object\n",
       "TowerID               object\n",
       "TowerLat             float64\n",
       "TowerLon             float64\n",
       "dtype: object"
      ]
     },
     "execution_count": 4,
     "metadata": {},
     "output_type": "execute_result"
    }
   ],
   "source": [
    "df['CallDate']=pd.to_datetime(df.CallDate,errors='coerce')\n",
    "df['CallTime']=pd.to_timedelta(df.CallTime,errors='coerce')\n",
    "df.dtypes"
   ]
  },
  {
   "cell_type": "markdown",
   "metadata": {},
   "source": [
    "Create a distinct list of `In` phone numbers (people) and store the values in a regular python list. Make sure the numbers appear in your list in the same order they appear in your dataframe; but only keep a single copy of each number. [This link](https://docs.scipy.org/doc/numpy/reference/generated/numpy.ndarray.tolist.html) might also be helpful."
   ]
  },
  {
   "cell_type": "code",
   "execution_count": 5,
   "metadata": {},
   "outputs": [],
   "source": [
    "# .. your code here ..\n",
    "In = list(df['In'].unique())"
   ]
  },
  {
   "cell_type": "markdown",
   "metadata": {},
   "source": [
    "Create a slice named `user1` that filters to _only_ include dataset records where the `In` feature (user's phone number) is equal to the first number on your unique list above, i.e., the very first number in the dataset:"
   ]
  },
  {
   "cell_type": "code",
   "execution_count": 6,
   "metadata": {},
   "outputs": [],
   "source": [
    "# .. your code here ..\n",
    "user1 = df[df['In']==In[0]]"
   ]
  },
  {
   "cell_type": "markdown",
   "metadata": {},
   "source": [
    "Let's go ahead and plot all the call locations:"
   ]
  },
  {
   "cell_type": "code",
   "execution_count": 7,
   "metadata": {},
   "outputs": [
    {
     "data": {
      "image/png": "[encoded data removed]",
      "text/plain": [
       "<Figure size 432x288 with 1 Axes>"
      ]
     },
     "metadata": {},
     "output_type": "display_data"
    }
   ],
   "source": [
    "user1.plot.scatter(x='TowerLon', y='TowerLat', c='gray', alpha=0.1, title='Call Locations')\n",
    "plt.show()"
   ]
  },
  {
   "cell_type": "markdown",
   "metadata": {},
   "source": [
    "INFO: The locations map above should be too \"busy\" to really wrap your head around. This is where domain expertise comes into play. Your intuition can direct you by knowing people are likely to behave differently on weekends vs on weekdays:\n",
    "\n",
    "#### On Weekends\n",
    "1. People probably don't go into work\n",
    "1. They probably sleep in late on Saturday\n",
    "1. They probably run a bunch of random errands, since they couldn't during the week\n",
    "1. They should be home, at least during the very late hours, e.g. 1-4 AM\n",
    "\n",
    "#### On Weekdays\n",
    "1. People probably are at work during normal working hours\n",
    "1. They probably are at home in the early morning and during the late night\n",
    "1. They probably spend time commuting between work and home everyday"
   ]
  },
  {
   "cell_type": "markdown",
   "metadata": {},
   "source": [
    "Add more filters to the `user1` slice you created. Add bitwise logic so that you only examine records that _came in_ on weekends (sat/sun):"
   ]
  },
  {
   "cell_type": "code",
   "execution_count": 8,
   "metadata": {},
   "outputs": [],
   "source": [
    "# .. your code here ..\n",
    "user1 = user1[(user1['DOW']=='Sat') | (user1['DOW']=='Sun')]"
   ]
  },
  {
   "cell_type": "markdown",
   "metadata": {
    "collapsed": true
   },
   "source": [
    "Further filter `user1` down for calls that came in either before 6AM OR after 10pm (22:00:00). Even if you didn't convert your times from string objects to timedeltas, you can still use `<` and `>` to compare the string times as long as you code them as [military time strings](https://en.wikipedia.org/wiki/24-hour_clock), eg: \"06:00:00\", \"22:00:00\": \n",
    "\n",
    "You may also want to review the Data Manipulation section for this. Once you have your filtered slice, print out its length:"
   ]
  },
  {
   "cell_type": "code",
   "execution_count": 9,
   "metadata": {},
   "outputs": [
    {
     "data": {
      "text/html": [
       "<div>\n",
       "<style scoped>\n",
       "    .dataframe tbody tr th:only-of-type {\n",
       "        vertical-align: middle;\n",
       "    }\n",
       "\n",
       "    .dataframe tbody tr th {\n",
       "        vertical-align: top;\n",
       "    }\n",
       "\n",
       "    .dataframe thead th {\n",
       "        text-align: right;\n",
       "    }\n",
       "</style>\n",
       "<table border=\"1\" class=\"dataframe\">\n",
       "  <thead>\n",
       "    <tr style=\"text-align: right;\">\n",
       "      <th></th>\n",
       "      <th>In</th>\n",
       "      <th>Out</th>\n",
       "      <th>Direction</th>\n",
       "      <th>CallDate</th>\n",
       "      <th>CallTime</th>\n",
       "      <th>DOW</th>\n",
       "      <th>Duration</th>\n",
       "      <th>TowerID</th>\n",
       "      <th>TowerLat</th>\n",
       "      <th>TowerLon</th>\n",
       "    </tr>\n",
       "  </thead>\n",
       "  <tbody>\n",
       "    <tr>\n",
       "      <th>940</th>\n",
       "      <td>4638472273</td>\n",
       "      <td>6150928001</td>\n",
       "      <td>Incoming</td>\n",
       "      <td>2011-01-08</td>\n",
       "      <td>22:22:33.693878</td>\n",
       "      <td>Sat</td>\n",
       "      <td>0:00:35.065912</td>\n",
       "      <td>26f7441e-e64b-4b9d-8c5a-0eb34f7e919f</td>\n",
       "      <td>32.731611</td>\n",
       "      <td>-96.709417</td>\n",
       "    </tr>\n",
       "    <tr>\n",
       "      <th>1875</th>\n",
       "      <td>4638472273</td>\n",
       "      <td>2145623768</td>\n",
       "      <td>Incoming</td>\n",
       "      <td>2011-01-22</td>\n",
       "      <td>22:21:27.466908</td>\n",
       "      <td>Sat</td>\n",
       "      <td>0:03:40.018320</td>\n",
       "      <td>2567c73b-3711-4a31-8683-9d12d56857d8</td>\n",
       "      <td>32.731611</td>\n",
       "      <td>-96.709417</td>\n",
       "    </tr>\n",
       "    <tr>\n",
       "      <th>6949</th>\n",
       "      <td>4638472273</td>\n",
       "      <td>5621270003</td>\n",
       "      <td>Missed</td>\n",
       "      <td>2011-04-09</td>\n",
       "      <td>22:59:23.206408</td>\n",
       "      <td>Sat</td>\n",
       "      <td>0:03:06.567364</td>\n",
       "      <td>2567c73b-3711-4a31-8683-9d12d56857d8</td>\n",
       "      <td>32.731611</td>\n",
       "      <td>-96.709417</td>\n",
       "    </tr>\n",
       "    <tr>\n",
       "      <th>7468</th>\n",
       "      <td>4638472273</td>\n",
       "      <td>7756914135</td>\n",
       "      <td>Incoming</td>\n",
       "      <td>2011-04-17</td>\n",
       "      <td>05:15:40.205917</td>\n",
       "      <td>Sun</td>\n",
       "      <td>0:02:09.984993</td>\n",
       "      <td>cd9f3b1a-2eb8-4cdb-86d1-5d4c2740b1dc</td>\n",
       "      <td>32.731722</td>\n",
       "      <td>-96.709500</td>\n",
       "    </tr>\n",
       "    <tr>\n",
       "      <th>9753</th>\n",
       "      <td>4638472273</td>\n",
       "      <td>7922223441</td>\n",
       "      <td>Incoming</td>\n",
       "      <td>2011-05-21</td>\n",
       "      <td>05:08:20.121145</td>\n",
       "      <td>Sat</td>\n",
       "      <td>0:01:30.059591</td>\n",
       "      <td>0db53dd3-eb9c-4344-abc5-c2d74ebc3eec</td>\n",
       "      <td>32.731611</td>\n",
       "      <td>-96.709417</td>\n",
       "    </tr>\n",
       "    <tr>\n",
       "      <th>13951</th>\n",
       "      <td>4638472273</td>\n",
       "      <td>7428841195</td>\n",
       "      <td>Missed</td>\n",
       "      <td>2011-07-23</td>\n",
       "      <td>22:56:02.014834</td>\n",
       "      <td>Sat</td>\n",
       "      <td>0:04:48.497077</td>\n",
       "      <td>26f7441e-e64b-4b9d-8c5a-0eb34f7e919f</td>\n",
       "      <td>32.731611</td>\n",
       "      <td>-96.709417</td>\n",
       "    </tr>\n",
       "    <tr>\n",
       "      <th>17515</th>\n",
       "      <td>4638472273</td>\n",
       "      <td>2666307251</td>\n",
       "      <td>Incoming</td>\n",
       "      <td>2011-09-11</td>\n",
       "      <td>05:44:15.432523</td>\n",
       "      <td>Sun</td>\n",
       "      <td>0:01:39.500414</td>\n",
       "      <td>bcec0121-164d-406c-8c04-d12870893992</td>\n",
       "      <td>32.731611</td>\n",
       "      <td>-96.709417</td>\n",
       "    </tr>\n",
       "    <tr>\n",
       "      <th>21638</th>\n",
       "      <td>4638472273</td>\n",
       "      <td>6150928001</td>\n",
       "      <td>Incoming</td>\n",
       "      <td>2011-11-13</td>\n",
       "      <td>05:10:41.954161</td>\n",
       "      <td>Sun</td>\n",
       "      <td>0:00:44.369613</td>\n",
       "      <td>f3f289f5-7d29-4d3f-9b9a-a0ceaca10a1d</td>\n",
       "      <td>32.750556</td>\n",
       "      <td>-96.694722</td>\n",
       "    </tr>\n",
       "    <tr>\n",
       "      <th>22045</th>\n",
       "      <td>4638472273</td>\n",
       "      <td>6022767590</td>\n",
       "      <td>Missed</td>\n",
       "      <td>2011-11-19</td>\n",
       "      <td>22:59:53.166951</td>\n",
       "      <td>Sat</td>\n",
       "      <td>0:00:05.795265</td>\n",
       "      <td>8ba7e0d7-eb6e-4828-9c70-c469954a627d</td>\n",
       "      <td>32.731611</td>\n",
       "      <td>-96.709417</td>\n",
       "    </tr>\n",
       "    <tr>\n",
       "      <th>22502</th>\n",
       "      <td>4638472273</td>\n",
       "      <td>5621270003</td>\n",
       "      <td>Incoming</td>\n",
       "      <td>2011-11-26</td>\n",
       "      <td>22:10:48.879076</td>\n",
       "      <td>Sat</td>\n",
       "      <td>0:03:07.592270</td>\n",
       "      <td>bcec0121-164d-406c-8c04-d12870893992</td>\n",
       "      <td>32.731611</td>\n",
       "      <td>-96.709417</td>\n",
       "    </tr>\n",
       "    <tr>\n",
       "      <th>27866</th>\n",
       "      <td>4638472273</td>\n",
       "      <td>2946222380</td>\n",
       "      <td>Missed</td>\n",
       "      <td>2012-02-12</td>\n",
       "      <td>22:48:34.319367</td>\n",
       "      <td>Sun</td>\n",
       "      <td>0:03:24.762196</td>\n",
       "      <td>1bfc786a-d4c2-464c-bc45-b9aad0c81216</td>\n",
       "      <td>32.731722</td>\n",
       "      <td>-96.709500</td>\n",
       "    </tr>\n",
       "    <tr>\n",
       "      <th>31975</th>\n",
       "      <td>4638472273</td>\n",
       "      <td>1755442610</td>\n",
       "      <td>Incoming</td>\n",
       "      <td>2012-04-14</td>\n",
       "      <td>05:42:32.004437</td>\n",
       "      <td>Sat</td>\n",
       "      <td>0:07:02.657988</td>\n",
       "      <td>d760c426-4d58-4f9c-9950-b68a3a54612c</td>\n",
       "      <td>32.731611</td>\n",
       "      <td>-96.709417</td>\n",
       "    </tr>\n",
       "    <tr>\n",
       "      <th>32605</th>\n",
       "      <td>4638472273</td>\n",
       "      <td>7756914135</td>\n",
       "      <td>Incoming</td>\n",
       "      <td>2012-04-22</td>\n",
       "      <td>22:44:21.992759</td>\n",
       "      <td>Sun</td>\n",
       "      <td>0:02:37.995933</td>\n",
       "      <td>0db53dd3-eb9c-4344-abc5-c2d74ebc3eec</td>\n",
       "      <td>32.731611</td>\n",
       "      <td>-96.709417</td>\n",
       "    </tr>\n",
       "    <tr>\n",
       "      <th>32606</th>\n",
       "      <td>4638472273</td>\n",
       "      <td>7922223441</td>\n",
       "      <td>Incoming</td>\n",
       "      <td>2012-04-22</td>\n",
       "      <td>05:02:55.678110</td>\n",
       "      <td>Sun</td>\n",
       "      <td>0:03:50.596153</td>\n",
       "      <td>8ba7e0d7-eb6e-4828-9c70-c469954a627d</td>\n",
       "      <td>32.731611</td>\n",
       "      <td>-96.709417</td>\n",
       "    </tr>\n",
       "    <tr>\n",
       "      <th>34427</th>\n",
       "      <td>4638472273</td>\n",
       "      <td>5621270003</td>\n",
       "      <td>Incoming</td>\n",
       "      <td>2012-05-19</td>\n",
       "      <td>05:42:45.405430</td>\n",
       "      <td>Sat</td>\n",
       "      <td>0:03:33.104834</td>\n",
       "      <td>2567c73b-3711-4a31-8683-9d12d56857d8</td>\n",
       "      <td>32.731611</td>\n",
       "      <td>-96.709417</td>\n",
       "    </tr>\n",
       "    <tr>\n",
       "      <th>38110</th>\n",
       "      <td>4638472273</td>\n",
       "      <td>2145623768</td>\n",
       "      <td>Incoming</td>\n",
       "      <td>2012-07-15</td>\n",
       "      <td>05:59:38.556670</td>\n",
       "      <td>Sun</td>\n",
       "      <td>0:04:29.583137</td>\n",
       "      <td>1bfc786a-d4c2-464c-bc45-b9aad0c81216</td>\n",
       "      <td>32.731722</td>\n",
       "      <td>-96.709500</td>\n",
       "    </tr>\n",
       "    <tr>\n",
       "      <th>38564</th>\n",
       "      <td>4638472273</td>\n",
       "      <td>5481755331</td>\n",
       "      <td>Incoming</td>\n",
       "      <td>2012-07-22</td>\n",
       "      <td>22:14:37.361635</td>\n",
       "      <td>Sun</td>\n",
       "      <td>0:01:44.568702</td>\n",
       "      <td>aeaf8b43-8034-44fe-833d-31854a75acbf</td>\n",
       "      <td>32.731722</td>\n",
       "      <td>-96.709500</td>\n",
       "    </tr>\n",
       "    <tr>\n",
       "      <th>39870</th>\n",
       "      <td>4638472273</td>\n",
       "      <td>8180005891</td>\n",
       "      <td>Incoming</td>\n",
       "      <td>2012-08-12</td>\n",
       "      <td>22:31:22.519784</td>\n",
       "      <td>Sun</td>\n",
       "      <td>0:00:12.541785</td>\n",
       "      <td>26f7441e-e64b-4b9d-8c5a-0eb34f7e919f</td>\n",
       "      <td>32.731611</td>\n",
       "      <td>-96.709417</td>\n",
       "    </tr>\n",
       "    <tr>\n",
       "      <th>40275</th>\n",
       "      <td>4638472273</td>\n",
       "      <td>7756914135</td>\n",
       "      <td>Missed</td>\n",
       "      <td>2012-08-19</td>\n",
       "      <td>05:33:32.103650</td>\n",
       "      <td>Sun</td>\n",
       "      <td>0:01:35.932559</td>\n",
       "      <td>aeaf8b43-8034-44fe-833d-31854a75acbf</td>\n",
       "      <td>32.731722</td>\n",
       "      <td>-96.709500</td>\n",
       "    </tr>\n",
       "    <tr>\n",
       "      <th>40789</th>\n",
       "      <td>4638472273</td>\n",
       "      <td>7428841195</td>\n",
       "      <td>Incoming</td>\n",
       "      <td>2012-08-26</td>\n",
       "      <td>22:23:58.453302</td>\n",
       "      <td>Sun</td>\n",
       "      <td>0:06:08.978230</td>\n",
       "      <td>bcec0121-164d-406c-8c04-d12870893992</td>\n",
       "      <td>32.731611</td>\n",
       "      <td>-96.709417</td>\n",
       "    </tr>\n",
       "    <tr>\n",
       "      <th>41757</th>\n",
       "      <td>4638472273</td>\n",
       "      <td>7922223441</td>\n",
       "      <td>Incoming</td>\n",
       "      <td>2012-09-08</td>\n",
       "      <td>22:45:53.008411</td>\n",
       "      <td>Sat</td>\n",
       "      <td>0:04:26.260140</td>\n",
       "      <td>2567c73b-3711-4a31-8683-9d12d56857d8</td>\n",
       "      <td>32.731611</td>\n",
       "      <td>-96.709417</td>\n",
       "    </tr>\n",
       "    <tr>\n",
       "      <th>41758</th>\n",
       "      <td>4638472273</td>\n",
       "      <td>7428841195</td>\n",
       "      <td>Incoming</td>\n",
       "      <td>2012-09-08</td>\n",
       "      <td>22:19:08.522062</td>\n",
       "      <td>Sat</td>\n",
       "      <td>0:04:18.402811</td>\n",
       "      <td>bcec0121-164d-406c-8c04-d12870893992</td>\n",
       "      <td>32.731611</td>\n",
       "      <td>-96.709417</td>\n",
       "    </tr>\n",
       "    <tr>\n",
       "      <th>42224</th>\n",
       "      <td>4638472273</td>\n",
       "      <td>7922223441</td>\n",
       "      <td>Incoming</td>\n",
       "      <td>2012-09-15</td>\n",
       "      <td>05:14:40.655349</td>\n",
       "      <td>Sat</td>\n",
       "      <td>0:04:07.561627</td>\n",
       "      <td>cd9f3b1a-2eb8-4cdb-86d1-5d4c2740b1dc</td>\n",
       "      <td>32.731722</td>\n",
       "      <td>-96.709500</td>\n",
       "    </tr>\n",
       "    <tr>\n",
       "      <th>44498</th>\n",
       "      <td>4638472273</td>\n",
       "      <td>7721472178</td>\n",
       "      <td>Incoming</td>\n",
       "      <td>2012-10-21</td>\n",
       "      <td>22:00:09.753350</td>\n",
       "      <td>Sun</td>\n",
       "      <td>0:03:24.773041</td>\n",
       "      <td>d760c426-4d58-4f9c-9950-b68a3a54612c</td>\n",
       "      <td>32.731611</td>\n",
       "      <td>-96.709417</td>\n",
       "    </tr>\n",
       "    <tr>\n",
       "      <th>44927</th>\n",
       "      <td>4638472273</td>\n",
       "      <td>1755442610</td>\n",
       "      <td>Incoming</td>\n",
       "      <td>2012-10-27</td>\n",
       "      <td>05:47:54.723850</td>\n",
       "      <td>Sat</td>\n",
       "      <td>0:04:28.876617</td>\n",
       "      <td>1bfc786a-d4c2-464c-bc45-b9aad0c81216</td>\n",
       "      <td>32.731722</td>\n",
       "      <td>-96.709500</td>\n",
       "    </tr>\n",
       "    <tr>\n",
       "      <th>44994</th>\n",
       "      <td>4638472273</td>\n",
       "      <td>7922223441</td>\n",
       "      <td>Incoming</td>\n",
       "      <td>2012-10-28</td>\n",
       "      <td>05:24:17.234557</td>\n",
       "      <td>Sun</td>\n",
       "      <td>0:02:00.473836</td>\n",
       "      <td>bde84490-896f-4060-8bd0-bd7a90cc20d9</td>\n",
       "      <td>32.750556</td>\n",
       "      <td>-96.694722</td>\n",
       "    </tr>\n",
       "    <tr>\n",
       "      <th>49203</th>\n",
       "      <td>4638472273</td>\n",
       "      <td>8068555700</td>\n",
       "      <td>Incoming</td>\n",
       "      <td>2012-12-29</td>\n",
       "      <td>05:08:40.433945</td>\n",
       "      <td>Sat</td>\n",
       "      <td>0:03:10.280023</td>\n",
       "      <td>aeaf8b43-8034-44fe-833d-31854a75acbf</td>\n",
       "      <td>32.731722</td>\n",
       "      <td>-96.709500</td>\n",
       "    </tr>\n",
       "    <tr>\n",
       "      <th>51586</th>\n",
       "      <td>4638472273</td>\n",
       "      <td>2946222380</td>\n",
       "      <td>Incoming</td>\n",
       "      <td>2013-02-03</td>\n",
       "      <td>22:14:12.703233</td>\n",
       "      <td>Sun</td>\n",
       "      <td>0:04:05.550748</td>\n",
       "      <td>cd9f3b1a-2eb8-4cdb-86d1-5d4c2740b1dc</td>\n",
       "      <td>32.731722</td>\n",
       "      <td>-96.709500</td>\n",
       "    </tr>\n",
       "  </tbody>\n",
       "</table>\n",
       "</div>"
      ],
      "text/plain": [
       "               In         Out Direction   CallDate        CallTime  DOW  \\\n",
       "940    4638472273  6150928001  Incoming 2011-01-08 22:22:33.693878  Sat   \n",
       "1875   4638472273  2145623768  Incoming 2011-01-22 22:21:27.466908  Sat   \n",
       "6949   4638472273  5621270003    Missed 2011-04-09 22:59:23.206408  Sat   \n",
       "7468   4638472273  7756914135  Incoming 2011-04-17 05:15:40.205917  Sun   \n",
       "9753   4638472273  7922223441  Incoming 2011-05-21 05:08:20.121145  Sat   \n",
       "13951  4638472273  7428841195    Missed 2011-07-23 22:56:02.014834  Sat   \n",
       "17515  4638472273  2666307251  Incoming 2011-09-11 05:44:15.432523  Sun   \n",
       "21638  4638472273  6150928001  Incoming 2011-11-13 05:10:41.954161  Sun   \n",
       "22045  4638472273  6022767590    Missed 2011-11-19 22:59:53.166951  Sat   \n",
       "22502  4638472273  5621270003  Incoming 2011-11-26 22:10:48.879076  Sat   \n",
       "27866  4638472273  2946222380    Missed 2012-02-12 22:48:34.319367  Sun   \n",
       "31975  4638472273  1755442610  Incoming 2012-04-14 05:42:32.004437  Sat   \n",
       "32605  4638472273  7756914135  Incoming 2012-04-22 22:44:21.992759  Sun   \n",
       "32606  4638472273  7922223441  Incoming 2012-04-22 05:02:55.678110  Sun   \n",
       "34427  4638472273  5621270003  Incoming 2012-05-19 05:42:45.405430  Sat   \n",
       "38110  4638472273  2145623768  Incoming 2012-07-15 05:59:38.556670  Sun   \n",
       "38564  4638472273  5481755331  Incoming 2012-07-22 22:14:37.361635  Sun   \n",
       "39870  4638472273  8180005891  Incoming 2012-08-12 22:31:22.519784  Sun   \n",
       "40275  4638472273  7756914135    Missed 2012-08-19 05:33:32.103650  Sun   \n",
       "40789  4638472273  7428841195  Incoming 2012-08-26 22:23:58.453302  Sun   \n",
       "41757  4638472273  7922223441  Incoming 2012-09-08 22:45:53.008411  Sat   \n",
       "41758  4638472273  7428841195  Incoming 2012-09-08 22:19:08.522062  Sat   \n",
       "42224  4638472273  7922223441  Incoming 2012-09-15 05:14:40.655349  Sat   \n",
       "44498  4638472273  7721472178  Incoming 2012-10-21 22:00:09.753350  Sun   \n",
       "44927  4638472273  1755442610  Incoming 2012-10-27 05:47:54.723850  Sat   \n",
       "44994  4638472273  7922223441  Incoming 2012-10-28 05:24:17.234557  Sun   \n",
       "49203  4638472273  8068555700  Incoming 2012-12-29 05:08:40.433945  Sat   \n",
       "51586  4638472273  2946222380  Incoming 2013-02-03 22:14:12.703233  Sun   \n",
       "\n",
       "             Duration                               TowerID   TowerLat  \\\n",
       "940    0:00:35.065912  26f7441e-e64b-4b9d-8c5a-0eb34f7e919f  32.731611   \n",
       "1875   0:03:40.018320  2567c73b-3711-4a31-8683-9d12d56857d8  32.731611   \n",
       "6949   0:03:06.567364  2567c73b-3711-4a31-8683-9d12d56857d8  32.731611   \n",
       "7468   0:02:09.984993  cd9f3b1a-2eb8-4cdb-86d1-5d4c2740b1dc  32.731722   \n",
       "9753   0:01:30.059591  0db53dd3-eb9c-4344-abc5-c2d74ebc3eec  32.731611   \n",
       "13951  0:04:48.497077  26f7441e-e64b-4b9d-8c5a-0eb34f7e919f  32.731611   \n",
       "17515  0:01:39.500414  bcec0121-164d-406c-8c04-d12870893992  32.731611   \n",
       "21638  0:00:44.369613  f3f289f5-7d29-4d3f-9b9a-a0ceaca10a1d  32.750556   \n",
       "22045  0:00:05.795265  8ba7e0d7-eb6e-4828-9c70-c469954a627d  32.731611   \n",
       "22502  0:03:07.592270  bcec0121-164d-406c-8c04-d12870893992  32.731611   \n",
       "27866  0:03:24.762196  1bfc786a-d4c2-464c-bc45-b9aad0c81216  32.731722   \n",
       "31975  0:07:02.657988  d760c426-4d58-4f9c-9950-b68a3a54612c  32.731611   \n",
       "32605  0:02:37.995933  0db53dd3-eb9c-4344-abc5-c2d74ebc3eec  32.731611   \n",
       "32606  0:03:50.596153  8ba7e0d7-eb6e-4828-9c70-c469954a627d  32.731611   \n",
       "34427  0:03:33.104834  2567c73b-3711-4a31-8683-9d12d56857d8  32.731611   \n",
       "38110  0:04:29.583137  1bfc786a-d4c2-464c-bc45-b9aad0c81216  32.731722   \n",
       "38564  0:01:44.568702  aeaf8b43-8034-44fe-833d-31854a75acbf  32.731722   \n",
       "39870  0:00:12.541785  26f7441e-e64b-4b9d-8c5a-0eb34f7e919f  32.731611   \n",
       "40275  0:01:35.932559  aeaf8b43-8034-44fe-833d-31854a75acbf  32.731722   \n",
       "40789  0:06:08.978230  bcec0121-164d-406c-8c04-d12870893992  32.731611   \n",
       "41757  0:04:26.260140  2567c73b-3711-4a31-8683-9d12d56857d8  32.731611   \n",
       "41758  0:04:18.402811  bcec0121-164d-406c-8c04-d12870893992  32.731611   \n",
       "42224  0:04:07.561627  cd9f3b1a-2eb8-4cdb-86d1-5d4c2740b1dc  32.731722   \n",
       "44498  0:03:24.773041  d760c426-4d58-4f9c-9950-b68a3a54612c  32.731611   \n",
       "44927  0:04:28.876617  1bfc786a-d4c2-464c-bc45-b9aad0c81216  32.731722   \n",
       "44994  0:02:00.473836  bde84490-896f-4060-8bd0-bd7a90cc20d9  32.750556   \n",
       "49203  0:03:10.280023  aeaf8b43-8034-44fe-833d-31854a75acbf  32.731722   \n",
       "51586  0:04:05.550748  cd9f3b1a-2eb8-4cdb-86d1-5d4c2740b1dc  32.731722   \n",
       "\n",
       "        TowerLon  \n",
       "940   -96.709417  \n",
       "1875  -96.709417  \n",
       "6949  -96.709417  \n",
       "7468  -96.709500  \n",
       "9753  -96.709417  \n",
       "13951 -96.709417  \n",
       "17515 -96.709417  \n",
       "21638 -96.694722  \n",
       "22045 -96.709417  \n",
       "22502 -96.709417  \n",
       "27866 -96.709500  \n",
       "31975 -96.709417  \n",
       "32605 -96.709417  \n",
       "32606 -96.709417  \n",
       "34427 -96.709417  \n",
       "38110 -96.709500  \n",
       "38564 -96.709500  \n",
       "39870 -96.709417  \n",
       "40275 -96.709500  \n",
       "40789 -96.709417  \n",
       "41757 -96.709417  \n",
       "41758 -96.709417  \n",
       "42224 -96.709500  \n",
       "44498 -96.709417  \n",
       "44927 -96.709500  \n",
       "44994 -96.694722  \n",
       "49203 -96.709500  \n",
       "51586 -96.709500  "
      ]
     },
     "execution_count": 9,
     "metadata": {},
     "output_type": "execute_result"
    }
   ],
   "source": [
    "# .. your code here ..\n",
    "user1=user1[(user1['CallTime'] < '06:00:00') | (user1['CallTime'] > '22:00:00')]\n",
    "user1"
   ]
  },
  {
   "cell_type": "markdown",
   "metadata": {},
   "source": [
    "Visualize the dataframe with a scatter plot as a sanity check. Since you're [familiar with maps](https://en.wikipedia.org/wiki/Geographic_coordinate_system#Geographic_latitude_and_longitude), you know well that your X-Coordinate should be Longitude, and your Y coordinate should be the tower Latitude. Check the dataset headers for proper column feature names.\n",
    " \n",
    "At this point, you don't yet know exactly where the user is located just based off the cell phone tower position data; but considering the below are for Calls that arrived in the twilight hours of weekends, it's likely that wherever they are bunched up is probably near where the caller's residence:"
   ]
  },
  {
   "cell_type": "code",
   "execution_count": 11,
   "metadata": {},
   "outputs": [
    {
     "data": {
      "image/png": "[encoded data removed]",
      "text/plain": [
       "<Figure size 432x288 with 1 Axes>"
      ]
     },
     "metadata": {},
     "output_type": "display_data"
    }
   ],
   "source": [
    "fig = plt.figure()\n",
    "ax = fig.add_subplot(111)\n",
    "ax.scatter(user1.TowerLon,user1.TowerLat, c='g', marker='o', alpha=0.2)\n",
    "ax.set_title('Weekend Calls (<6am or >10p)')\n",
    "plt.show()"
   ]
  },
  {
   "cell_type": "markdown",
   "metadata": {},
   "source": [
    "Run K-Means with a `K=1`. There really should only be a single area of concentration. If you notice multiple areas that are \"hot\" (multiple areas the user spends a lot of time at that are FAR apart from one another), then increase `K=2`, with the goal being that one of the centroids will sweep up the annoying outliers; and the other will zero in on the user's approximate home location. Or rather the location of the cell tower closest to their home.....\n",
    "\n",
    "Be sure to only feed in Lat and Lon coordinates to the KMeans algorithm, since none of the other data is suitable for your purposes. Since both Lat and Lon are (approximately) on the same scale, no feature scaling is required. Print out the centroid locations and add them onto your scatter plot. Use a distinguishable marker and color.\n",
    "\n",
    "Hint: Make sure you graph the CORRECT coordinates. This is part of your domain expertise."
   ]
  },
  {
   "cell_type": "code",
   "execution_count": 21,
   "metadata": {},
   "outputs": [],
   "source": [
    "# .. your code here ..\n",
    "def doKMeans(df,n,i):\n",
    "    fig =plt.figure()\n",
    "    ax =fig.add_subplot(111)\n",
    "    ax.scatter(df.TowerLon,df.TowerLat,c='r',marker='o',alpha=0.2)\n",
    "    ax.set_title('Weekend Calls (<6am or >10pm)'+'For User'+str(i))\n",
    "    df =df[['TowerLon','TowerLat']]\n",
    "    model=KMeans(n_clusters=n,init='k-means++', n_init=10, max_iter=300)\n",
    "    model.fit(df)\n",
    "    center=model.cluster_centers_\n",
    "    print(center)\n",
    "    ax.scatter(center[:,0],center[:,1],c='b',marker='x',alpha=0.7,linewidths=5,s=169)\n",
    "    plt.show()"
   ]
  },
  {
   "cell_type": "code",
   "execution_count": 23,
   "metadata": {},
   "outputs": [
    {
     "name": "stdout",
     "output_type": "stream",
     "text": [
      "[[-96.70839404  32.73299989]]\n"
     ]
    },
    {
     "data": {
      "image/png": "[encoded data removed]",
      "text/plain": [
       "<Figure size 432x288 with 1 Axes>"
      ]
     },
     "metadata": {},
     "output_type": "display_data"
    }
   ],
   "source": [
    "doKMeans(user1,1,1)"
   ]
  },
  {
   "cell_type": "markdown",
   "metadata": {},
   "source": [
    "Now that you have a system in place, repeat the above steps for all 10 individuals in the dataset, being sure to record their approximate home locations. You might want to use a for-loop, unless you enjoy copying and pasting:"
   ]
  },
  {
   "cell_type": "code",
   "execution_count": 24,
   "metadata": {},
   "outputs": [
    {
     "name": "stdout",
     "output_type": "stream",
     "text": [
      "[[-96.70839404  32.73299989]]\n"
     ]
    },
    {
     "data": {
      "image/png": "[encoded data removed]",
      "text/plain": [
       "<Figure size 432x288 with 1 Axes>"
      ]
     },
     "metadata": {},
     "output_type": "display_data"
    },
    {
     "name": "stdout",
     "output_type": "stream",
     "text": [
      "[[-96.92355165  32.87097035]]\n"
     ]
    },
    {
     "data": {
      "image/png": "[encoded data removed]",
      "text/plain": [
       "<Figure size 432x288 with 1 Axes>"
      ]
     },
     "metadata": {},
     "output_type": "display_data"
    },
    {
     "name": "stdout",
     "output_type": "stream",
     "text": [
      "[[-96.86526087  32.86557287]]\n"
     ]
    },
    {
     "data": {
      "image/png": "[encoded data removed]",
      "text/plain": [
       "<Figure size 432x288 with 1 Axes>"
      ]
     },
     "metadata": {},
     "output_type": "display_data"
    },
    {
     "name": "stdout",
     "output_type": "stream",
     "text": [
      "[[-96.83577361  32.84688271]]\n"
     ]
    },
    {
     "data": {
      "image/png": "[encoded data removed]",
      "text/plain": [
       "<Figure size 432x288 with 1 Axes>"
      ]
     },
     "metadata": {},
     "output_type": "display_data"
    },
    {
     "name": "stdout",
     "output_type": "stream",
     "text": [
      "[[-96.73155696  32.87684057]]\n"
     ]
    },
    {
     "data": {
      "image/png": "[encoded data removed]",
      "text/plain": [
       "<Figure size 432x288 with 1 Axes>"
      ]
     },
     "metadata": {},
     "output_type": "display_data"
    },
    {
     "name": "stdout",
     "output_type": "stream",
     "text": [
      "[[-96.685556  32.770833]]\n"
     ]
    },
    {
     "data": {
      "image/png": "[encoded data removed]",
      "text/plain": [
       "<Figure size 432x288 with 1 Axes>"
      ]
     },
     "metadata": {},
     "output_type": "display_data"
    },
    {
     "name": "stdout",
     "output_type": "stream",
     "text": [
      "[[-96.84065775  32.70437017]]\n"
     ]
    },
    {
     "data": {
      "image/png": "[encoded data removed]",
      "text/plain": [
       "<Figure size 432x288 with 1 Axes>"
      ]
     },
     "metadata": {},
     "output_type": "display_data"
    },
    {
     "name": "stdout",
     "output_type": "stream",
     "text": [
      "[[-96.604444  32.703056]]\n"
     ]
    },
    {
     "data": {
      "image/png": "[encoded data removed]",
      "text/plain": [
       "<Figure size 432x288 with 1 Axes>"
      ]
     },
     "metadata": {},
     "output_type": "display_data"
    },
    {
     "name": "stdout",
     "output_type": "stream",
     "text": [
      "[[-96.81476225  32.77267817]]\n"
     ]
    },
    {
     "data": {
      "image/png": "[encoded data removed]",
      "text/plain": [
       "<Figure size 432x288 with 1 Axes>"
      ]
     },
     "metadata": {},
     "output_type": "display_data"
    },
    {
     "name": "stdout",
     "output_type": "stream",
     "text": [
      "[[-96.78028103  32.77609108]]\n"
     ]
    },
    {
     "data": {
      "image/png": "[encoded data removed]",
      "text/plain": [
       "<Figure size 432x288 with 1 Axes>"
      ]
     },
     "metadata": {},
     "output_type": "display_data"
    }
   ],
   "source": [
    "# .. your code here ..\n",
    "for i in range(0,len(In)):\n",
    "    user = df[df['In']==In[i]]\n",
    "    user = user[(user['DOW']=='Sat') | (user['DOW']=='Sun')]\n",
    "    user=user[(user['CallTime'] < '06:00:00') | (user['CallTime'] > '22:00:00')]\n",
    "    doKMeans(user,1,i+1)"
   ]
  },
  {
   "cell_type": "code",
   "execution_count": null,
   "metadata": {},
   "outputs": [],
   "source": []
  },
  {
   "cell_type": "code",
   "execution_count": null,
   "metadata": {},
   "outputs": [],
   "source": []
  }
 ],
 "metadata": {
  "anaconda-cloud": {},
  "kernelspec": {
   "display_name": "Python 3",
   "language": "python",
   "name": "python3"
  },
  "language_info": {
   "codemirror_mode": {
    "name": "ipython",
    "version": 3
   },
   "file_extension": ".py",
   "mimetype": "text/x-python",
   "name": "python",
   "nbconvert_exporter": "python",
   "pygments_lexer": "ipython3",
   "version": "3.6.5"
  },
  "toc": {
   "colors": {
    "hover_highlight": "#DAA520",
    "running_highlight": "#FF0000",
    "selected_highlight": "#FFD700"
   },
   "moveMenuLeft": true,
   "nav_menu": {
    "height": "58px",
    "width": "252px"
   },
   "navigate_menu": true,
   "number_sections": true,
   "sideBar": true,
   "threshold": 4,
   "toc_cell": false,
   "toc_section_display": "block",
   "toc_window_display": false,
   "widenNotebook": false
  }
 },
 "nbformat": 4,
 "nbformat_minor": 2
}
